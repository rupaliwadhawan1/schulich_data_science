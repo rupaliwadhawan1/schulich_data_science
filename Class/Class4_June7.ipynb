{
 "cells": [
  {
   "cell_type": "code",
   "execution_count": 6,
   "metadata": {},
   "outputs": [],
   "source": [
    "import pandas as pd"
   ]
  },
  {
   "cell_type": "code",
   "execution_count": 7,
   "metadata": {},
   "outputs": [],
   "source": [
    "df=pd.read_csv('/Users/rupaliwadhawan/Downloads/new_data.csv')"
   ]
  },
  {
   "cell_type": "code",
   "execution_count": 8,
   "metadata": {},
   "outputs": [
    {
     "data": {
      "text/html": [
       "<div>\n",
       "<style scoped>\n",
       "    .dataframe tbody tr th:only-of-type {\n",
       "        vertical-align: middle;\n",
       "    }\n",
       "\n",
       "    .dataframe tbody tr th {\n",
       "        vertical-align: top;\n",
       "    }\n",
       "\n",
       "    .dataframe thead th {\n",
       "        text-align: right;\n",
       "    }\n",
       "</style>\n",
       "<table border=\"1\" class=\"dataframe\">\n",
       "  <thead>\n",
       "    <tr style=\"text-align: right;\">\n",
       "      <th></th>\n",
       "      <th>Unnamed: 0</th>\n",
       "      <th>event_time</th>\n",
       "      <th>event_type</th>\n",
       "      <th>product_id</th>\n",
       "      <th>category_id</th>\n",
       "      <th>category_code</th>\n",
       "      <th>brand</th>\n",
       "      <th>price</th>\n",
       "      <th>user_id</th>\n",
       "      <th>user_session</th>\n",
       "    </tr>\n",
       "  </thead>\n",
       "  <tbody>\n",
       "    <tr>\n",
       "      <th>0</th>\n",
       "      <td>0</td>\n",
       "      <td>2019-11-01 00:00:00 UTC</td>\n",
       "      <td>view</td>\n",
       "      <td>1003461</td>\n",
       "      <td>2053013555631882655</td>\n",
       "      <td>electronics.smartphone</td>\n",
       "      <td>xiaomi</td>\n",
       "      <td>489.07</td>\n",
       "      <td>520088904</td>\n",
       "      <td>4d3b30da-a5e4-49df-b1a8-ba5943f1dd33</td>\n",
       "    </tr>\n",
       "    <tr>\n",
       "      <th>1</th>\n",
       "      <td>1</td>\n",
       "      <td>2019-11-01 00:00:00 UTC</td>\n",
       "      <td>view</td>\n",
       "      <td>5000088</td>\n",
       "      <td>2053013566100866035</td>\n",
       "      <td>appliances.sewing_machine</td>\n",
       "      <td>janome</td>\n",
       "      <td>293.65</td>\n",
       "      <td>530496790</td>\n",
       "      <td>8e5f4f83-366c-4f70-860e-ca7417414283</td>\n",
       "    </tr>\n",
       "    <tr>\n",
       "      <th>2</th>\n",
       "      <td>2</td>\n",
       "      <td>2019-11-01 00:00:01 UTC</td>\n",
       "      <td>view</td>\n",
       "      <td>17302664</td>\n",
       "      <td>2053013553853497655</td>\n",
       "      <td>NaN</td>\n",
       "      <td>creed</td>\n",
       "      <td>28.31</td>\n",
       "      <td>561587266</td>\n",
       "      <td>755422e7-9040-477b-9bd2-6a6e8fd97387</td>\n",
       "    </tr>\n",
       "    <tr>\n",
       "      <th>3</th>\n",
       "      <td>3</td>\n",
       "      <td>2019-11-01 00:00:01 UTC</td>\n",
       "      <td>view</td>\n",
       "      <td>3601530</td>\n",
       "      <td>2053013563810775923</td>\n",
       "      <td>appliances.kitchen.washer</td>\n",
       "      <td>lg</td>\n",
       "      <td>712.87</td>\n",
       "      <td>518085591</td>\n",
       "      <td>3bfb58cd-7892-48cc-8020-2f17e6de6e7f</td>\n",
       "    </tr>\n",
       "    <tr>\n",
       "      <th>4</th>\n",
       "      <td>4</td>\n",
       "      <td>2019-11-01 00:00:01 UTC</td>\n",
       "      <td>view</td>\n",
       "      <td>1004775</td>\n",
       "      <td>2053013555631882655</td>\n",
       "      <td>electronics.smartphone</td>\n",
       "      <td>xiaomi</td>\n",
       "      <td>183.27</td>\n",
       "      <td>558856683</td>\n",
       "      <td>313628f1-68b8-460d-84f6-cec7a8796ef2</td>\n",
       "    </tr>\n",
       "    <tr>\n",
       "      <th>...</th>\n",
       "      <td>...</td>\n",
       "      <td>...</td>\n",
       "      <td>...</td>\n",
       "      <td>...</td>\n",
       "      <td>...</td>\n",
       "      <td>...</td>\n",
       "      <td>...</td>\n",
       "      <td>...</td>\n",
       "      <td>...</td>\n",
       "      <td>...</td>\n",
       "    </tr>\n",
       "    <tr>\n",
       "      <th>9999995</th>\n",
       "      <td>9999995</td>\n",
       "      <td>2019-11-07 05:08:21 UTC</td>\n",
       "      <td>view</td>\n",
       "      <td>1005115</td>\n",
       "      <td>2053013555631882655</td>\n",
       "      <td>electronics.smartphone</td>\n",
       "      <td>apple</td>\n",
       "      <td>915.69</td>\n",
       "      <td>517800555</td>\n",
       "      <td>c6b764e0-561c-4c17-a546-2e922196bb49</td>\n",
       "    </tr>\n",
       "    <tr>\n",
       "      <th>9999996</th>\n",
       "      <td>9999996</td>\n",
       "      <td>2019-11-07 05:08:21 UTC</td>\n",
       "      <td>view</td>\n",
       "      <td>12707281</td>\n",
       "      <td>2053013553559896355</td>\n",
       "      <td>NaN</td>\n",
       "      <td>gislaved</td>\n",
       "      <td>90.86</td>\n",
       "      <td>539095445</td>\n",
       "      <td>b1673b33-d0ff-4a09-bf57-56dedc3d016e</td>\n",
       "    </tr>\n",
       "    <tr>\n",
       "      <th>9999997</th>\n",
       "      <td>9999997</td>\n",
       "      <td>2019-11-07 05:08:21 UTC</td>\n",
       "      <td>view</td>\n",
       "      <td>3601405</td>\n",
       "      <td>2053013563810775923</td>\n",
       "      <td>appliances.kitchen.washer</td>\n",
       "      <td>beko</td>\n",
       "      <td>180.16</td>\n",
       "      <td>548916637</td>\n",
       "      <td>e020a307-551c-4e58-a787-126701d30d41</td>\n",
       "    </tr>\n",
       "    <tr>\n",
       "      <th>9999998</th>\n",
       "      <td>9999998</td>\n",
       "      <td>2019-11-07 05:08:21 UTC</td>\n",
       "      <td>view</td>\n",
       "      <td>12711053</td>\n",
       "      <td>2053013553559896355</td>\n",
       "      <td>NaN</td>\n",
       "      <td>tunga</td>\n",
       "      <td>32.69</td>\n",
       "      <td>521586999</td>\n",
       "      <td>c8c48941-2ca1-4ce4-8d44-c96eb5df4fb5</td>\n",
       "    </tr>\n",
       "    <tr>\n",
       "      <th>9999999</th>\n",
       "      <td>9999999</td>\n",
       "      <td>2019-11-07 05:08:21 UTC</td>\n",
       "      <td>cart</td>\n",
       "      <td>1005121</td>\n",
       "      <td>2053013555631882655</td>\n",
       "      <td>electronics.smartphone</td>\n",
       "      <td>apple</td>\n",
       "      <td>947.98</td>\n",
       "      <td>563025983</td>\n",
       "      <td>9b19a94a-78b9-4ff8-8334-f48eed7cc0a0</td>\n",
       "    </tr>\n",
       "  </tbody>\n",
       "</table>\n",
       "<p>10000000 rows × 10 columns</p>\n",
       "</div>"
      ],
      "text/plain": [
       "         Unnamed: 0               event_time event_type  product_id   \n",
       "0                 0  2019-11-01 00:00:00 UTC       view     1003461  \\\n",
       "1                 1  2019-11-01 00:00:00 UTC       view     5000088   \n",
       "2                 2  2019-11-01 00:00:01 UTC       view    17302664   \n",
       "3                 3  2019-11-01 00:00:01 UTC       view     3601530   \n",
       "4                 4  2019-11-01 00:00:01 UTC       view     1004775   \n",
       "...             ...                      ...        ...         ...   \n",
       "9999995     9999995  2019-11-07 05:08:21 UTC       view     1005115   \n",
       "9999996     9999996  2019-11-07 05:08:21 UTC       view    12707281   \n",
       "9999997     9999997  2019-11-07 05:08:21 UTC       view     3601405   \n",
       "9999998     9999998  2019-11-07 05:08:21 UTC       view    12711053   \n",
       "9999999     9999999  2019-11-07 05:08:21 UTC       cart     1005121   \n",
       "\n",
       "                 category_id              category_code     brand   price   \n",
       "0        2053013555631882655     electronics.smartphone    xiaomi  489.07  \\\n",
       "1        2053013566100866035  appliances.sewing_machine    janome  293.65   \n",
       "2        2053013553853497655                        NaN     creed   28.31   \n",
       "3        2053013563810775923  appliances.kitchen.washer        lg  712.87   \n",
       "4        2053013555631882655     electronics.smartphone    xiaomi  183.27   \n",
       "...                      ...                        ...       ...     ...   \n",
       "9999995  2053013555631882655     electronics.smartphone     apple  915.69   \n",
       "9999996  2053013553559896355                        NaN  gislaved   90.86   \n",
       "9999997  2053013563810775923  appliances.kitchen.washer      beko  180.16   \n",
       "9999998  2053013553559896355                        NaN     tunga   32.69   \n",
       "9999999  2053013555631882655     electronics.smartphone     apple  947.98   \n",
       "\n",
       "           user_id                          user_session  \n",
       "0        520088904  4d3b30da-a5e4-49df-b1a8-ba5943f1dd33  \n",
       "1        530496790  8e5f4f83-366c-4f70-860e-ca7417414283  \n",
       "2        561587266  755422e7-9040-477b-9bd2-6a6e8fd97387  \n",
       "3        518085591  3bfb58cd-7892-48cc-8020-2f17e6de6e7f  \n",
       "4        558856683  313628f1-68b8-460d-84f6-cec7a8796ef2  \n",
       "...            ...                                   ...  \n",
       "9999995  517800555  c6b764e0-561c-4c17-a546-2e922196bb49  \n",
       "9999996  539095445  b1673b33-d0ff-4a09-bf57-56dedc3d016e  \n",
       "9999997  548916637  e020a307-551c-4e58-a787-126701d30d41  \n",
       "9999998  521586999  c8c48941-2ca1-4ce4-8d44-c96eb5df4fb5  \n",
       "9999999  563025983  9b19a94a-78b9-4ff8-8334-f48eed7cc0a0  \n",
       "\n",
       "[10000000 rows x 10 columns]"
      ]
     },
     "execution_count": 8,
     "metadata": {},
     "output_type": "execute_result"
    }
   ],
   "source": [
    "df"
   ]
  },
  {
   "cell_type": "code",
   "execution_count": 13,
   "metadata": {},
   "outputs": [],
   "source": [
    "df1=df['event_type']=='purchase'"
   ]
  },
  {
   "cell_type": "code",
   "execution_count": 14,
   "metadata": {},
   "outputs": [
    {
     "data": {
      "text/plain": [
       "True"
      ]
     },
     "execution_count": 14,
     "metadata": {},
     "output_type": "execute_result"
    }
   ],
   "source": [
    "df1.any()"
   ]
  },
  {
   "cell_type": "code",
   "execution_count": 22,
   "metadata": {},
   "outputs": [],
   "source": [
    "df_productgroup = df.groupby('product_id').count()"
   ]
  },
  {
   "cell_type": "code",
   "execution_count": 72,
   "metadata": {},
   "outputs": [
    {
     "data": {
      "text/plain": [
       "Index(['Unnamed: 0', 'event_time', 'event_type', 'product_id', 'category_id',\n",
       "       'category_code', 'brand', 'price', 'user_id', 'user_session'],\n",
       "      dtype='object')"
      ]
     },
     "execution_count": 72,
     "metadata": {},
     "output_type": "execute_result"
    }
   ],
   "source": [
    "df.columns"
   ]
  },
  {
   "cell_type": "code",
   "execution_count": null,
   "metadata": {},
   "outputs": [],
   "source": [
    "df.groupby('product_id')['']"
   ]
  },
  {
   "cell_type": "code",
   "execution_count": 74,
   "metadata": {},
   "outputs": [
    {
     "data": {
      "text/html": [
       "<div>\n",
       "<style scoped>\n",
       "    .dataframe tbody tr th:only-of-type {\n",
       "        vertical-align: middle;\n",
       "    }\n",
       "\n",
       "    .dataframe tbody tr th {\n",
       "        vertical-align: top;\n",
       "    }\n",
       "\n",
       "    .dataframe thead th {\n",
       "        text-align: right;\n",
       "    }\n",
       "</style>\n",
       "<table border=\"1\" class=\"dataframe\">\n",
       "  <thead>\n",
       "    <tr style=\"text-align: right;\">\n",
       "      <th></th>\n",
       "      <th>product_id</th>\n",
       "      <th>price</th>\n",
       "    </tr>\n",
       "    <tr>\n",
       "      <th>product_id</th>\n",
       "      <th></th>\n",
       "      <th></th>\n",
       "    </tr>\n",
       "  </thead>\n",
       "  <tbody>\n",
       "    <tr>\n",
       "      <th>1000978</th>\n",
       "      <td>2</td>\n",
       "      <td>601.82</td>\n",
       "    </tr>\n",
       "    <tr>\n",
       "      <th>1001588</th>\n",
       "      <td>1</td>\n",
       "      <td>127.86</td>\n",
       "    </tr>\n",
       "    <tr>\n",
       "      <th>1002098</th>\n",
       "      <td>8</td>\n",
       "      <td>2965.12</td>\n",
       "    </tr>\n",
       "    <tr>\n",
       "      <th>1002100</th>\n",
       "      <td>7</td>\n",
       "      <td>2594.48</td>\n",
       "    </tr>\n",
       "    <tr>\n",
       "      <th>1002101</th>\n",
       "      <td>23</td>\n",
       "      <td>8524.72</td>\n",
       "    </tr>\n",
       "    <tr>\n",
       "      <th>...</th>\n",
       "      <td>...</td>\n",
       "      <td>...</td>\n",
       "    </tr>\n",
       "    <tr>\n",
       "      <th>60500001</th>\n",
       "      <td>8</td>\n",
       "      <td>201.60</td>\n",
       "    </tr>\n",
       "    <tr>\n",
       "      <th>60500002</th>\n",
       "      <td>1</td>\n",
       "      <td>42.19</td>\n",
       "    </tr>\n",
       "    <tr>\n",
       "      <th>61700004</th>\n",
       "      <td>2</td>\n",
       "      <td>303.74</td>\n",
       "    </tr>\n",
       "    <tr>\n",
       "      <th>61700006</th>\n",
       "      <td>1</td>\n",
       "      <td>254.83</td>\n",
       "    </tr>\n",
       "    <tr>\n",
       "      <th>61700014</th>\n",
       "      <td>1</td>\n",
       "      <td>203.35</td>\n",
       "    </tr>\n",
       "  </tbody>\n",
       "</table>\n",
       "<p>18298 rows × 2 columns</p>\n",
       "</div>"
      ],
      "text/plain": [
       "            product_id    price\n",
       "product_id                     \n",
       "1000978              2   601.82\n",
       "1001588              1   127.86\n",
       "1002098              8  2965.12\n",
       "1002100              7  2594.48\n",
       "1002101             23  8524.72\n",
       "...                ...      ...\n",
       "60500001             8   201.60\n",
       "60500002             1    42.19\n",
       "61700004             2   303.74\n",
       "61700006             1   254.83\n",
       "61700014             1   203.35\n",
       "\n",
       "[18298 rows x 2 columns]"
      ]
     },
     "execution_count": 74,
     "metadata": {},
     "output_type": "execute_result"
    }
   ],
   "source": [
    "df[df['event_type']=='purchase'].groupby('product_id').agg(\n",
    "    {'product_id' : 'count',\n",
    "     'price' : 'sum'})"
   ]
  },
  {
   "cell_type": "code",
   "execution_count": 9,
   "metadata": {},
   "outputs": [],
   "source": [
    "df_purchase_by_product = df[df['event_type']=='purchase'].groupby('product_id').agg(\n",
    "    {'product_id' : 'count',\n",
    "     'price' : 'sum'}\n",
    ")"
   ]
  },
  {
   "cell_type": "code",
   "execution_count": 10,
   "metadata": {},
   "outputs": [
    {
     "data": {
      "text/plain": [
       "<bound method DataFrame.reset_index of             product_id    price\n",
       "product_id                     \n",
       "1000978              2   601.82\n",
       "1001588              1   127.86\n",
       "1002098              8  2965.12\n",
       "1002100              7  2594.48\n",
       "1002101             23  8524.72\n",
       "...                ...      ...\n",
       "60500001             8   201.60\n",
       "60500002             1    42.19\n",
       "61700004             2   303.74\n",
       "61700006             1   254.83\n",
       "61700014             1   203.35\n",
       "\n",
       "[18298 rows x 2 columns]>"
      ]
     },
     "execution_count": 10,
     "metadata": {},
     "output_type": "execute_result"
    }
   ],
   "source": [
    "df_purchase_by_product.reset_index"
   ]
  },
  {
   "cell_type": "code",
   "execution_count": 11,
   "metadata": {},
   "outputs": [
    {
     "data": {
      "text/html": [
       "<div>\n",
       "<style scoped>\n",
       "    .dataframe tbody tr th:only-of-type {\n",
       "        vertical-align: middle;\n",
       "    }\n",
       "\n",
       "    .dataframe tbody tr th {\n",
       "        vertical-align: top;\n",
       "    }\n",
       "\n",
       "    .dataframe thead th {\n",
       "        text-align: right;\n",
       "    }\n",
       "</style>\n",
       "<table border=\"1\" class=\"dataframe\">\n",
       "  <thead>\n",
       "    <tr style=\"text-align: right;\">\n",
       "      <th></th>\n",
       "      <th>product_id</th>\n",
       "      <th>price</th>\n",
       "    </tr>\n",
       "    <tr>\n",
       "      <th>product_id</th>\n",
       "      <th></th>\n",
       "      <th></th>\n",
       "    </tr>\n",
       "  </thead>\n",
       "  <tbody>\n",
       "    <tr>\n",
       "      <th>1005115</th>\n",
       "      <td>3750</td>\n",
       "      <td>3472141.71</td>\n",
       "    </tr>\n",
       "    <tr>\n",
       "      <th>1005105</th>\n",
       "      <td>1667</td>\n",
       "      <td>2237694.16</td>\n",
       "    </tr>\n",
       "    <tr>\n",
       "      <th>1004249</th>\n",
       "      <td>1742</td>\n",
       "      <td>1276299.70</td>\n",
       "    </tr>\n",
       "    <tr>\n",
       "      <th>1005135</th>\n",
       "      <td>733</td>\n",
       "      <td>1211693.39</td>\n",
       "    </tr>\n",
       "    <tr>\n",
       "      <th>1004767</th>\n",
       "      <td>4288</td>\n",
       "      <td>1036294.62</td>\n",
       "    </tr>\n",
       "    <tr>\n",
       "      <th>1002544</th>\n",
       "      <td>2179</td>\n",
       "      <td>1009721.35</td>\n",
       "    </tr>\n",
       "    <tr>\n",
       "      <th>1004856</th>\n",
       "      <td>5416</td>\n",
       "      <td>701885.35</td>\n",
       "    </tr>\n",
       "    <tr>\n",
       "      <th>1005116</th>\n",
       "      <td>644</td>\n",
       "      <td>637802.43</td>\n",
       "    </tr>\n",
       "    <tr>\n",
       "      <th>1002524</th>\n",
       "      <td>1050</td>\n",
       "      <td>568530.08</td>\n",
       "    </tr>\n",
       "    <tr>\n",
       "      <th>1004870</th>\n",
       "      <td>1974</td>\n",
       "      <td>535046.34</td>\n",
       "    </tr>\n",
       "    <tr>\n",
       "      <th>1003317</th>\n",
       "      <td>507</td>\n",
       "      <td>475410.13</td>\n",
       "    </tr>\n",
       "    <tr>\n",
       "      <th>1003306</th>\n",
       "      <td>806</td>\n",
       "      <td>463832.79</td>\n",
       "    </tr>\n",
       "    <tr>\n",
       "      <th>1005106</th>\n",
       "      <td>301</td>\n",
       "      <td>430708.79</td>\n",
       "    </tr>\n",
       "    <tr>\n",
       "      <th>1004833</th>\n",
       "      <td>2518</td>\n",
       "      <td>428981.67</td>\n",
       "    </tr>\n",
       "    <tr>\n",
       "      <th>1005129</th>\n",
       "      <td>315</td>\n",
       "      <td>414414.41</td>\n",
       "    </tr>\n",
       "    <tr>\n",
       "      <th>1004873</th>\n",
       "      <td>1105</td>\n",
       "      <td>399448.44</td>\n",
       "    </tr>\n",
       "    <tr>\n",
       "      <th>4804056</th>\n",
       "      <td>2401</td>\n",
       "      <td>384837.82</td>\n",
       "    </tr>\n",
       "    <tr>\n",
       "      <th>1004659</th>\n",
       "      <td>527</td>\n",
       "      <td>374812.85</td>\n",
       "    </tr>\n",
       "    <tr>\n",
       "      <th>1005144</th>\n",
       "      <td>226</td>\n",
       "      <td>370094.29</td>\n",
       "    </tr>\n",
       "    <tr>\n",
       "      <th>1004836</th>\n",
       "      <td>1496</td>\n",
       "      <td>339505.59</td>\n",
       "    </tr>\n",
       "  </tbody>\n",
       "</table>\n",
       "</div>"
      ],
      "text/plain": [
       "            product_id       price\n",
       "product_id                        \n",
       "1005115           3750  3472141.71\n",
       "1005105           1667  2237694.16\n",
       "1004249           1742  1276299.70\n",
       "1005135            733  1211693.39\n",
       "1004767           4288  1036294.62\n",
       "1002544           2179  1009721.35\n",
       "1004856           5416   701885.35\n",
       "1005116            644   637802.43\n",
       "1002524           1050   568530.08\n",
       "1004870           1974   535046.34\n",
       "1003317            507   475410.13\n",
       "1003306            806   463832.79\n",
       "1005106            301   430708.79\n",
       "1004833           2518   428981.67\n",
       "1005129            315   414414.41\n",
       "1004873           1105   399448.44\n",
       "4804056           2401   384837.82\n",
       "1004659            527   374812.85\n",
       "1005144            226   370094.29\n",
       "1004836           1496   339505.59"
      ]
     },
     "execution_count": 11,
     "metadata": {},
     "output_type": "execute_result"
    }
   ],
   "source": [
    "df_purchase_by_product.sort_values('price',ascending=False).head(20)"
   ]
  },
  {
   "cell_type": "code",
   "execution_count": 63,
   "metadata": {},
   "outputs": [
    {
     "data": {
      "text/plain": [
       "Index(['count', 'price'], dtype='object')"
      ]
     },
     "execution_count": 63,
     "metadata": {},
     "output_type": "execute_result"
    }
   ],
   "source": [
    "df_purchase_by_product.columns"
   ]
  },
  {
   "cell_type": "code",
   "execution_count": 12,
   "metadata": {},
   "outputs": [
    {
     "data": {
      "text/plain": [
       "product_id\n",
       "1000978      2\n",
       "1001588      1\n",
       "1002098      8\n",
       "1002100      7\n",
       "1002101     23\n",
       "            ..\n",
       "60500001     8\n",
       "60500002     1\n",
       "61700004     2\n",
       "61700006     1\n",
       "61700014     1\n",
       "Name: product_id, Length: 18298, dtype: object"
      ]
     },
     "execution_count": 12,
     "metadata": {},
     "output_type": "execute_result"
    }
   ],
   "source": [
    "df_purchase_by_product['product_id'].astype(str)\n"
   ]
  },
  {
   "cell_type": "code",
   "execution_count": 14,
   "metadata": {},
   "outputs": [
    {
     "data": {
      "text/plain": [
       "product_id\n",
       "1000978      2\n",
       "1001588      1\n",
       "1002098      8\n",
       "1002100      7\n",
       "1002101     23\n",
       "            ..\n",
       "60500001     8\n",
       "60500002     1\n",
       "61700004     2\n",
       "61700006     1\n",
       "61700014     1\n",
       "Name: product_id, Length: 18298, dtype: object"
      ]
     },
     "execution_count": 14,
     "metadata": {},
     "output_type": "execute_result"
    }
   ],
   "source": [
    "df_purchase_by_product['product_id'].astype(str)"
   ]
  },
  {
   "cell_type": "code",
   "execution_count": null,
   "metadata": {},
   "outputs": [],
   "source": [
    "df_purchase_by_product"
   ]
  },
  {
   "cell_type": "code",
   "execution_count": 15,
   "metadata": {},
   "outputs": [],
   "source": [
    "df_mostsales = df.groupby('product_id').sum('price').head(10).sort_values('price', ascending=False)"
   ]
  },
  {
   "cell_type": "code",
   "execution_count": 40,
   "metadata": {},
   "outputs": [
    {
     "data": {
      "text/html": [
       "<div>\n",
       "<style scoped>\n",
       "    .dataframe tbody tr th:only-of-type {\n",
       "        vertical-align: middle;\n",
       "    }\n",
       "\n",
       "    .dataframe tbody tr th {\n",
       "        vertical-align: top;\n",
       "    }\n",
       "\n",
       "    .dataframe thead th {\n",
       "        text-align: right;\n",
       "    }\n",
       "</style>\n",
       "<table border=\"1\" class=\"dataframe\">\n",
       "  <thead>\n",
       "    <tr style=\"text-align: right;\">\n",
       "      <th></th>\n",
       "      <th>Unnamed: 0</th>\n",
       "      <th>category_id</th>\n",
       "      <th>price</th>\n",
       "      <th>user_id</th>\n",
       "    </tr>\n",
       "    <tr>\n",
       "      <th>product_id</th>\n",
       "      <th></th>\n",
       "      <th></th>\n",
       "      <th></th>\n",
       "      <th></th>\n",
       "    </tr>\n",
       "  </thead>\n",
       "  <tbody>\n",
       "    <tr>\n",
       "      <th>1002101</th>\n",
       "      <td>18886891991</td>\n",
       "      <td>926694828351737714</td>\n",
       "      <td>1452167.52</td>\n",
       "      <td>2111137133755</td>\n",
       "    </tr>\n",
       "    <tr>\n",
       "      <th>1002100</th>\n",
       "      <td>6415491707</td>\n",
       "      <td>-5465355315731433193</td>\n",
       "      <td>525196.88</td>\n",
       "      <td>760084830039</td>\n",
       "    </tr>\n",
       "    <tr>\n",
       "      <th>1002098</th>\n",
       "      <td>5317412498</td>\n",
       "      <td>-6012158001324494215</td>\n",
       "      <td>465153.20</td>\n",
       "      <td>674522777540</td>\n",
       "    </tr>\n",
       "    <tr>\n",
       "      <th>1002099</th>\n",
       "      <td>4776798576</td>\n",
       "      <td>1227802557926483477</td>\n",
       "      <td>402508.63</td>\n",
       "      <td>536972046917</td>\n",
       "    </tr>\n",
       "    <tr>\n",
       "      <th>1000978</th>\n",
       "      <td>6860464698</td>\n",
       "      <td>-1250501975388891084</td>\n",
       "      <td>253980.69</td>\n",
       "      <td>453146048406</td>\n",
       "    </tr>\n",
       "    <tr>\n",
       "      <th>1001588</th>\n",
       "      <td>2090259577</td>\n",
       "      <td>7556425307855692799</td>\n",
       "      <td>53314.79</td>\n",
       "      <td>225334298894</td>\n",
       "    </tr>\n",
       "    <tr>\n",
       "      <th>1000365</th>\n",
       "      <td>7752964</td>\n",
       "      <td>2053013555631882655</td>\n",
       "      <td>1029.09</td>\n",
       "      <td>525766088</td>\n",
       "    </tr>\n",
       "    <tr>\n",
       "      <th>1002042</th>\n",
       "      <td>33918340</td>\n",
       "      <td>30377926977392279</td>\n",
       "      <td>694.26</td>\n",
       "      <td>4998413863</td>\n",
       "    </tr>\n",
       "    <tr>\n",
       "      <th>1001606</th>\n",
       "      <td>2832278</td>\n",
       "      <td>2053013555631882655</td>\n",
       "      <td>363.07</td>\n",
       "      <td>561997780</td>\n",
       "    </tr>\n",
       "    <tr>\n",
       "      <th>1002062</th>\n",
       "      <td>10913640</td>\n",
       "      <td>6159040666895647965</td>\n",
       "      <td>322.77</td>\n",
       "      <td>1596383514</td>\n",
       "    </tr>\n",
       "  </tbody>\n",
       "</table>\n",
       "</div>"
      ],
      "text/plain": [
       "             Unnamed: 0          category_id       price        user_id\n",
       "product_id                                                             \n",
       "1002101     18886891991   926694828351737714  1452167.52  2111137133755\n",
       "1002100      6415491707 -5465355315731433193   525196.88   760084830039\n",
       "1002098      5317412498 -6012158001324494215   465153.20   674522777540\n",
       "1002099      4776798576  1227802557926483477   402508.63   536972046917\n",
       "1000978      6860464698 -1250501975388891084   253980.69   453146048406\n",
       "1001588      2090259577  7556425307855692799    53314.79   225334298894\n",
       "1000365         7752964  2053013555631882655     1029.09      525766088\n",
       "1002042        33918340    30377926977392279      694.26     4998413863\n",
       "1001606         2832278  2053013555631882655      363.07      561997780\n",
       "1002062        10913640  6159040666895647965      322.77     1596383514"
      ]
     },
     "execution_count": 40,
     "metadata": {},
     "output_type": "execute_result"
    }
   ],
   "source": [
    "df_mostsales"
   ]
  },
  {
   "cell_type": "code",
   "execution_count": null,
   "metadata": {},
   "outputs": [],
   "source": [
    "import seaborn as sns"
   ]
  },
  {
   "cell_type": "code",
   "execution_count": 16,
   "metadata": {},
   "outputs": [
    {
     "ename": "",
     "evalue": "",
     "output_type": "error",
     "traceback": [
      "\u001b[1;31mCanceled future for execute_request message before replies were done"
     ]
    },
    {
     "ename": "",
     "evalue": "",
     "output_type": "error",
     "traceback": [
      "\u001b[1;31mThe Kernel crashed while executing code in the the current cell or a previous cell. Please review the code in the cell(s) to identify a possible cause of the failure. Click <a href='https://aka.ms/vscodeJupyterKernelCrash'>here</a> for more info. View Jupyter <a href='command:jupyter.viewOutput'>log</a> for further details."
     ]
    }
   ],
   "source": [
    "sns.histplot(data=df_purchase_by_product, x='product_id', y='price')"
   ]
  },
  {
   "cell_type": "code",
   "execution_count": 5,
   "metadata": {},
   "outputs": [
    {
     "ename": "NameError",
     "evalue": "name 'df_mostsales' is not defined",
     "output_type": "error",
     "traceback": [
      "\u001b[0;31m---------------------------------------------------------------------------\u001b[0m",
      "\u001b[0;31mNameError\u001b[0m                                 Traceback (most recent call last)",
      "Cell \u001b[0;32mIn[5], line 1\u001b[0m\n\u001b[0;32m----> 1\u001b[0m sns\u001b[39m.\u001b[39mhistplot(data\u001b[39m=\u001b[39mdf_mostsales, x\u001b[39m=\u001b[39m\u001b[39m'\u001b[39m\u001b[39mproduct_id\u001b[39m\u001b[39m'\u001b[39m, y\u001b[39m=\u001b[39m\u001b[39m'\u001b[39m\u001b[39mprice\u001b[39m\u001b[39m'\u001b[39m)\n",
      "\u001b[0;31mNameError\u001b[0m: name 'df_mostsales' is not defined"
     ]
    }
   ],
   "source": [
    "sns.histplot(data=df_mostsales, x='product_id', y='price')"
   ]
  },
  {
   "cell_type": "code",
   "execution_count": null,
   "metadata": {},
   "outputs": [],
   "source": []
  }
 ],
 "metadata": {
  "kernelspec": {
   "display_name": "Python 3",
   "language": "python",
   "name": "python3"
  },
  "language_info": {
   "codemirror_mode": {
    "name": "ipython",
    "version": 3
   },
   "file_extension": ".py",
   "mimetype": "text/x-python",
   "name": "python",
   "nbconvert_exporter": "python",
   "pygments_lexer": "ipython3",
   "version": "3.11.3"
  },
  "orig_nbformat": 4
 },
 "nbformat": 4,
 "nbformat_minor": 2
}
