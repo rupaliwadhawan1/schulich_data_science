{
 "cells": [
  {
   "cell_type": "code",
   "execution_count": 1,
   "metadata": {},
   "outputs": [],
   "source": [
    "import pandas as pd"
   ]
  },
  {
   "cell_type": "code",
   "execution_count": 8,
   "metadata": {},
   "outputs": [],
   "source": [
    "from scipy import stats"
   ]
  },
  {
   "cell_type": "code",
   "execution_count": 2,
   "metadata": {},
   "outputs": [],
   "source": [
    "df = pd.read_csv('/Users/rupaliwadhawan/Downloads/experiment_dataset.csv')"
   ]
  },
  {
   "cell_type": "code",
   "execution_count": 3,
   "metadata": {},
   "outputs": [
    {
     "data": {
      "text/html": [
       "<div>\n",
       "<style scoped>\n",
       "    .dataframe tbody tr th:only-of-type {\n",
       "        vertical-align: middle;\n",
       "    }\n",
       "\n",
       "    .dataframe tbody tr th {\n",
       "        vertical-align: top;\n",
       "    }\n",
       "\n",
       "    .dataframe thead th {\n",
       "        text-align: right;\n",
       "    }\n",
       "</style>\n",
       "<table border=\"1\" class=\"dataframe\">\n",
       "  <thead>\n",
       "    <tr style=\"text-align: right;\">\n",
       "      <th></th>\n",
       "      <th>Unnamed: 0</th>\n",
       "      <th>Age</th>\n",
       "      <th>Location</th>\n",
       "      <th>Device</th>\n",
       "      <th>Variant</th>\n",
       "      <th>Time Spent</th>\n",
       "      <th>CTR</th>\n",
       "    </tr>\n",
       "  </thead>\n",
       "  <tbody>\n",
       "    <tr>\n",
       "      <th>0</th>\n",
       "      <td>0</td>\n",
       "      <td>62</td>\n",
       "      <td>Location2</td>\n",
       "      <td>Device2</td>\n",
       "      <td>Control</td>\n",
       "      <td>13.928669</td>\n",
       "      <td>0.084776</td>\n",
       "    </tr>\n",
       "    <tr>\n",
       "      <th>1</th>\n",
       "      <td>1</td>\n",
       "      <td>18</td>\n",
       "      <td>Location1</td>\n",
       "      <td>Device1</td>\n",
       "      <td>Variant B</td>\n",
       "      <td>11.310518</td>\n",
       "      <td>0.096859</td>\n",
       "    </tr>\n",
       "    <tr>\n",
       "      <th>2</th>\n",
       "      <td>2</td>\n",
       "      <td>21</td>\n",
       "      <td>Location2</td>\n",
       "      <td>Device1</td>\n",
       "      <td>Variant B</td>\n",
       "      <td>24.842100</td>\n",
       "      <td>0.097630</td>\n",
       "    </tr>\n",
       "    <tr>\n",
       "      <th>3</th>\n",
       "      <td>3</td>\n",
       "      <td>21</td>\n",
       "      <td>Location1</td>\n",
       "      <td>Device3</td>\n",
       "      <td>Variant B</td>\n",
       "      <td>20.061300</td>\n",
       "      <td>0.109783</td>\n",
       "    </tr>\n",
       "    <tr>\n",
       "      <th>4</th>\n",
       "      <td>4</td>\n",
       "      <td>57</td>\n",
       "      <td>Location1</td>\n",
       "      <td>Device2</td>\n",
       "      <td>Variant B</td>\n",
       "      <td>34.495503</td>\n",
       "      <td>0.068579</td>\n",
       "    </tr>\n",
       "    <tr>\n",
       "      <th>...</th>\n",
       "      <td>...</td>\n",
       "      <td>...</td>\n",
       "      <td>...</td>\n",
       "      <td>...</td>\n",
       "      <td>...</td>\n",
       "      <td>...</td>\n",
       "      <td>...</td>\n",
       "    </tr>\n",
       "    <tr>\n",
       "      <th>995</th>\n",
       "      <td>995</td>\n",
       "      <td>39</td>\n",
       "      <td>Location2</td>\n",
       "      <td>Device2</td>\n",
       "      <td>Variant B</td>\n",
       "      <td>17.252030</td>\n",
       "      <td>0.092211</td>\n",
       "    </tr>\n",
       "    <tr>\n",
       "      <th>996</th>\n",
       "      <td>996</td>\n",
       "      <td>38</td>\n",
       "      <td>Location3</td>\n",
       "      <td>Device2</td>\n",
       "      <td>Control</td>\n",
       "      <td>30.075898</td>\n",
       "      <td>0.078151</td>\n",
       "    </tr>\n",
       "    <tr>\n",
       "      <th>997</th>\n",
       "      <td>997</td>\n",
       "      <td>60</td>\n",
       "      <td>Location2</td>\n",
       "      <td>Device3</td>\n",
       "      <td>Control</td>\n",
       "      <td>31.929223</td>\n",
       "      <td>0.125213</td>\n",
       "    </tr>\n",
       "    <tr>\n",
       "      <th>998</th>\n",
       "      <td>998</td>\n",
       "      <td>35</td>\n",
       "      <td>Location2</td>\n",
       "      <td>Device2</td>\n",
       "      <td>Variant B</td>\n",
       "      <td>14.680299</td>\n",
       "      <td>0.095423</td>\n",
       "    </tr>\n",
       "    <tr>\n",
       "      <th>999</th>\n",
       "      <td>999</td>\n",
       "      <td>55</td>\n",
       "      <td>Location1</td>\n",
       "      <td>Device1</td>\n",
       "      <td>Variant B</td>\n",
       "      <td>25.803169</td>\n",
       "      <td>0.166688</td>\n",
       "    </tr>\n",
       "  </tbody>\n",
       "</table>\n",
       "<p>1000 rows × 7 columns</p>\n",
       "</div>"
      ],
      "text/plain": [
       "     Unnamed: 0  Age   Location   Device    Variant  Time Spent       CTR\n",
       "0             0   62  Location2  Device2    Control   13.928669  0.084776\n",
       "1             1   18  Location1  Device1  Variant B   11.310518  0.096859\n",
       "2             2   21  Location2  Device1  Variant B   24.842100  0.097630\n",
       "3             3   21  Location1  Device3  Variant B   20.061300  0.109783\n",
       "4             4   57  Location1  Device2  Variant B   34.495503  0.068579\n",
       "..          ...  ...        ...      ...        ...         ...       ...\n",
       "995         995   39  Location2  Device2  Variant B   17.252030  0.092211\n",
       "996         996   38  Location3  Device2    Control   30.075898  0.078151\n",
       "997         997   60  Location2  Device3    Control   31.929223  0.125213\n",
       "998         998   35  Location2  Device2  Variant B   14.680299  0.095423\n",
       "999         999   55  Location1  Device1  Variant B   25.803169  0.166688\n",
       "\n",
       "[1000 rows x 7 columns]"
      ]
     },
     "execution_count": 3,
     "metadata": {},
     "output_type": "execute_result"
    }
   ],
   "source": [
    "df"
   ]
  },
  {
   "cell_type": "code",
   "execution_count": 4,
   "metadata": {},
   "outputs": [],
   "source": [
    "df.drop('Unnamed: 0', axis=1, inplace = True)"
   ]
  },
  {
   "cell_type": "code",
   "execution_count": 5,
   "metadata": {},
   "outputs": [
    {
     "name": "stdout",
     "output_type": "stream",
     "text": [
      "<class 'pandas.core.frame.DataFrame'>\n",
      "RangeIndex: 1000 entries, 0 to 999\n",
      "Data columns (total 6 columns):\n",
      " #   Column      Non-Null Count  Dtype  \n",
      "---  ------      --------------  -----  \n",
      " 0   Age         1000 non-null   int64  \n",
      " 1   Location    1000 non-null   object \n",
      " 2   Device      1000 non-null   object \n",
      " 3   Variant     1000 non-null   object \n",
      " 4   Time Spent  1000 non-null   float64\n",
      " 5   CTR         1000 non-null   float64\n",
      "dtypes: float64(2), int64(1), object(3)\n",
      "memory usage: 47.0+ KB\n"
     ]
    }
   ],
   "source": [
    "df.info()"
   ]
  },
  {
   "cell_type": "code",
   "execution_count": 18,
   "metadata": {},
   "outputs": [],
   "source": [
    "control = df[df['Variant'] == 'Control']\n",
    "variant_a = df[df['Variant'] == 'Variant A']\n",
    "variant_b = df[df['Variant'] == 'Variant B']"
   ]
  },
  {
   "cell_type": "code",
   "execution_count": 19,
   "metadata": {},
   "outputs": [
    {
     "data": {
      "text/plain": [
       "20.070781011176855"
      ]
     },
     "execution_count": 19,
     "metadata": {},
     "output_type": "execute_result"
    }
   ],
   "source": [
    "avg_time_spent_control = control_group['Time Spent'].mean()\n",
    "avg_ctr_control = control_group['CTR'].mean()\n",
    "\n",
    "avg_time_spent_control"
   ]
  },
  {
   "cell_type": "code",
   "execution_count": 20,
   "metadata": {},
   "outputs": [
    {
     "data": {
      "text/plain": [
       "0.09855415286485454"
      ]
     },
     "execution_count": 20,
     "metadata": {},
     "output_type": "execute_result"
    }
   ],
   "source": [
    "avg_ctr_control"
   ]
  },
  {
   "cell_type": "code",
   "execution_count": 21,
   "metadata": {},
   "outputs": [
    {
     "data": {
      "text/plain": [
       "24.805547386576052"
      ]
     },
     "execution_count": 21,
     "metadata": {},
     "output_type": "execute_result"
    }
   ],
   "source": [
    "avg_time_spent_variant_a = variant_a['Time Spent'].mean()\n",
    "avg_ctr_variant_a = variant_a['CTR'].mean()\n",
    "\n",
    "avg_time_spent_variant_a"
   ]
  },
  {
   "cell_type": "code",
   "execution_count": 22,
   "metadata": {},
   "outputs": [
    {
     "data": {
      "text/plain": [
       "0.12026949300288214"
      ]
     },
     "execution_count": 22,
     "metadata": {},
     "output_type": "execute_result"
    }
   ],
   "source": [
    "avg_ctr_variant_a"
   ]
  },
  {
   "cell_type": "code",
   "execution_count": 23,
   "metadata": {},
   "outputs": [],
   "source": [
    "avg_time_spent_variant_b = variant_b['Time Spent'].mean()\n",
    "avg_ctr_variant_b = variant_b['CTR'].mean()"
   ]
  },
  {
   "cell_type": "code",
   "execution_count": 24,
   "metadata": {},
   "outputs": [
    {
     "data": {
      "text/plain": [
       "23.343782979234575"
      ]
     },
     "execution_count": 24,
     "metadata": {},
     "output_type": "execute_result"
    }
   ],
   "source": [
    "avg_time_spent_variant_b"
   ]
  },
  {
   "cell_type": "code",
   "execution_count": 25,
   "metadata": {},
   "outputs": [
    {
     "data": {
      "text/plain": [
       "0.1089330399532712"
      ]
     },
     "execution_count": 25,
     "metadata": {},
     "output_type": "execute_result"
    }
   ],
   "source": [
    "avg_ctr_variant_b"
   ]
  },
  {
   "cell_type": "code",
   "execution_count": 26,
   "metadata": {},
   "outputs": [],
   "source": [
    "time_spent_lift_a = avg_time_spent_variant_a - avg_time_spent_control"
   ]
  },
  {
   "cell_type": "code",
   "execution_count": 27,
   "metadata": {},
   "outputs": [
    {
     "data": {
      "text/plain": [
       "4.734766375399197"
      ]
     },
     "execution_count": 27,
     "metadata": {},
     "output_type": "execute_result"
    }
   ],
   "source": [
    "time_spent_lift_a"
   ]
  },
  {
   "cell_type": "code",
   "execution_count": 28,
   "metadata": {},
   "outputs": [],
   "source": [
    "time_spent_lift_b = avg_time_spent_variant_b - avg_time_spent_control"
   ]
  },
  {
   "cell_type": "code",
   "execution_count": 29,
   "metadata": {},
   "outputs": [
    {
     "data": {
      "text/plain": [
       "3.27300196805772"
      ]
     },
     "execution_count": 29,
     "metadata": {},
     "output_type": "execute_result"
    }
   ],
   "source": [
    "time_spent_lift_b"
   ]
  },
  {
   "cell_type": "code",
   "execution_count": 30,
   "metadata": {},
   "outputs": [],
   "source": [
    "ctr_lift_a = avg_ctr_variant_a - avg_ctr_control"
   ]
  },
  {
   "cell_type": "code",
   "execution_count": 31,
   "metadata": {},
   "outputs": [
    {
     "data": {
      "text/plain": [
       "0.021715340138027603"
      ]
     },
     "execution_count": 31,
     "metadata": {},
     "output_type": "execute_result"
    }
   ],
   "source": [
    "ctr_lift_a"
   ]
  },
  {
   "cell_type": "code",
   "execution_count": 32,
   "metadata": {},
   "outputs": [],
   "source": [
    "ctr_lift_b = avg_ctr_variant_b - avg_ctr_control"
   ]
  },
  {
   "cell_type": "code",
   "execution_count": 33,
   "metadata": {},
   "outputs": [
    {
     "data": {
      "text/plain": [
       "0.010378887088416652"
      ]
     },
     "execution_count": 33,
     "metadata": {},
     "output_type": "execute_result"
    }
   ],
   "source": [
    "ctr_lift_b"
   ]
  },
  {
   "cell_type": "code",
   "execution_count": 7,
   "metadata": {},
   "outputs": [
    {
     "data": {
      "text/html": [
       "<div>\n",
       "<style scoped>\n",
       "    .dataframe tbody tr th:only-of-type {\n",
       "        vertical-align: middle;\n",
       "    }\n",
       "\n",
       "    .dataframe tbody tr th {\n",
       "        vertical-align: top;\n",
       "    }\n",
       "\n",
       "    .dataframe thead th {\n",
       "        text-align: right;\n",
       "    }\n",
       "</style>\n",
       "<table border=\"1\" class=\"dataframe\">\n",
       "  <thead>\n",
       "    <tr style=\"text-align: right;\">\n",
       "      <th></th>\n",
       "      <th>Time Spent</th>\n",
       "      <th>CTR</th>\n",
       "    </tr>\n",
       "    <tr>\n",
       "      <th>Location</th>\n",
       "      <th></th>\n",
       "      <th></th>\n",
       "    </tr>\n",
       "  </thead>\n",
       "  <tbody>\n",
       "    <tr>\n",
       "      <th>Location1</th>\n",
       "      <td>22.707286</td>\n",
       "      <td>0.110217</td>\n",
       "    </tr>\n",
       "    <tr>\n",
       "      <th>Location2</th>\n",
       "      <td>22.648998</td>\n",
       "      <td>0.108517</td>\n",
       "    </tr>\n",
       "    <tr>\n",
       "      <th>Location3</th>\n",
       "      <td>22.787691</td>\n",
       "      <td>0.108708</td>\n",
       "    </tr>\n",
       "  </tbody>\n",
       "</table>\n",
       "</div>"
      ],
      "text/plain": [
       "           Time Spent       CTR\n",
       "Location                       \n",
       "Location1   22.707286  0.110217\n",
       "Location2   22.648998  0.108517\n",
       "Location3   22.787691  0.108708"
      ]
     },
     "execution_count": 7,
     "metadata": {},
     "output_type": "execute_result"
    }
   ],
   "source": [
    "df.groupby('Location')[['Time Spent','CTR']].mean()"
   ]
  },
  {
   "cell_type": "code",
   "execution_count": 9,
   "metadata": {},
   "outputs": [
    {
     "name": "stdout",
     "output_type": "stream",
     "text": [
      "F_onewayResult(statistic=0.053578839670573676, pvalue=0.9478339402848069)\n"
     ]
    }
   ],
   "source": [
    "loc_1 = df[df['Location'] == 'Location1']['Time Spent']\n",
    "loc_2 = df[df['Location'] == 'Location2']['Time Spent']\n",
    "loc_3 = df[df['Location'] == 'Location3']['Time Spent']\n",
    "\n",
    "p_val = stats.f_oneway(loc_1, loc_2, loc_3)\n",
    "print(p_val)"
   ]
  },
  {
   "cell_type": "code",
   "execution_count": 10,
   "metadata": {},
   "outputs": [
    {
     "name": "stdout",
     "output_type": "stream",
     "text": [
      "F_onewayResult(statistic=0.5792245145655729, pvalue=0.5605211716238133)\n"
     ]
    }
   ],
   "source": [
    "loc_1 = df[df['Location'] == 'Location1']['CTR']\n",
    "loc_2 = df[df['Location'] == 'Location2']['CTR']\n",
    "loc_3 = df[df['Location'] == 'Location3']['CTR']\n",
    "\n",
    "p_val = stats.f_oneway(loc_1, loc_2, loc_3)\n",
    "print(p_val)"
   ]
  },
  {
   "cell_type": "code",
   "execution_count": 11,
   "metadata": {},
   "outputs": [
    {
     "data": {
      "text/html": [
       "<div>\n",
       "<style scoped>\n",
       "    .dataframe tbody tr th:only-of-type {\n",
       "        vertical-align: middle;\n",
       "    }\n",
       "\n",
       "    .dataframe tbody tr th {\n",
       "        vertical-align: top;\n",
       "    }\n",
       "\n",
       "    .dataframe thead th {\n",
       "        text-align: right;\n",
       "    }\n",
       "</style>\n",
       "<table border=\"1\" class=\"dataframe\">\n",
       "  <thead>\n",
       "    <tr style=\"text-align: right;\">\n",
       "      <th></th>\n",
       "      <th>Time Spent</th>\n",
       "      <th>CTR</th>\n",
       "    </tr>\n",
       "    <tr>\n",
       "      <th>Age</th>\n",
       "      <th></th>\n",
       "      <th></th>\n",
       "    </tr>\n",
       "  </thead>\n",
       "  <tbody>\n",
       "    <tr>\n",
       "      <th>18</th>\n",
       "      <td>21.805160</td>\n",
       "      <td>0.104431</td>\n",
       "    </tr>\n",
       "    <tr>\n",
       "      <th>19</th>\n",
       "      <td>24.301099</td>\n",
       "      <td>0.113928</td>\n",
       "    </tr>\n",
       "    <tr>\n",
       "      <th>20</th>\n",
       "      <td>22.658484</td>\n",
       "      <td>0.106769</td>\n",
       "    </tr>\n",
       "    <tr>\n",
       "      <th>21</th>\n",
       "      <td>23.174444</td>\n",
       "      <td>0.106317</td>\n",
       "    </tr>\n",
       "    <tr>\n",
       "      <th>22</th>\n",
       "      <td>23.339777</td>\n",
       "      <td>0.111566</td>\n",
       "    </tr>\n",
       "    <tr>\n",
       "      <th>23</th>\n",
       "      <td>21.203465</td>\n",
       "      <td>0.111024</td>\n",
       "    </tr>\n",
       "    <tr>\n",
       "      <th>24</th>\n",
       "      <td>21.505956</td>\n",
       "      <td>0.109765</td>\n",
       "    </tr>\n",
       "    <tr>\n",
       "      <th>25</th>\n",
       "      <td>23.541231</td>\n",
       "      <td>0.109907</td>\n",
       "    </tr>\n",
       "    <tr>\n",
       "      <th>26</th>\n",
       "      <td>22.598906</td>\n",
       "      <td>0.110061</td>\n",
       "    </tr>\n",
       "    <tr>\n",
       "      <th>27</th>\n",
       "      <td>21.729390</td>\n",
       "      <td>0.105247</td>\n",
       "    </tr>\n",
       "    <tr>\n",
       "      <th>28</th>\n",
       "      <td>21.807757</td>\n",
       "      <td>0.103960</td>\n",
       "    </tr>\n",
       "    <tr>\n",
       "      <th>29</th>\n",
       "      <td>24.299111</td>\n",
       "      <td>0.100519</td>\n",
       "    </tr>\n",
       "    <tr>\n",
       "      <th>30</th>\n",
       "      <td>23.432915</td>\n",
       "      <td>0.106659</td>\n",
       "    </tr>\n",
       "    <tr>\n",
       "      <th>31</th>\n",
       "      <td>21.989786</td>\n",
       "      <td>0.104464</td>\n",
       "    </tr>\n",
       "    <tr>\n",
       "      <th>32</th>\n",
       "      <td>22.346828</td>\n",
       "      <td>0.112993</td>\n",
       "    </tr>\n",
       "    <tr>\n",
       "      <th>33</th>\n",
       "      <td>24.616644</td>\n",
       "      <td>0.114898</td>\n",
       "    </tr>\n",
       "    <tr>\n",
       "      <th>34</th>\n",
       "      <td>22.385361</td>\n",
       "      <td>0.106876</td>\n",
       "    </tr>\n",
       "    <tr>\n",
       "      <th>35</th>\n",
       "      <td>21.581871</td>\n",
       "      <td>0.111845</td>\n",
       "    </tr>\n",
       "    <tr>\n",
       "      <th>36</th>\n",
       "      <td>22.879286</td>\n",
       "      <td>0.107217</td>\n",
       "    </tr>\n",
       "    <tr>\n",
       "      <th>37</th>\n",
       "      <td>20.809576</td>\n",
       "      <td>0.120952</td>\n",
       "    </tr>\n",
       "    <tr>\n",
       "      <th>38</th>\n",
       "      <td>25.301273</td>\n",
       "      <td>0.117152</td>\n",
       "    </tr>\n",
       "    <tr>\n",
       "      <th>39</th>\n",
       "      <td>22.893486</td>\n",
       "      <td>0.105070</td>\n",
       "    </tr>\n",
       "    <tr>\n",
       "      <th>40</th>\n",
       "      <td>21.684611</td>\n",
       "      <td>0.121210</td>\n",
       "    </tr>\n",
       "    <tr>\n",
       "      <th>41</th>\n",
       "      <td>24.134836</td>\n",
       "      <td>0.110276</td>\n",
       "    </tr>\n",
       "    <tr>\n",
       "      <th>42</th>\n",
       "      <td>24.833502</td>\n",
       "      <td>0.113295</td>\n",
       "    </tr>\n",
       "    <tr>\n",
       "      <th>43</th>\n",
       "      <td>21.289182</td>\n",
       "      <td>0.106507</td>\n",
       "    </tr>\n",
       "    <tr>\n",
       "      <th>44</th>\n",
       "      <td>23.023596</td>\n",
       "      <td>0.106827</td>\n",
       "    </tr>\n",
       "    <tr>\n",
       "      <th>45</th>\n",
       "      <td>22.468996</td>\n",
       "      <td>0.099483</td>\n",
       "    </tr>\n",
       "    <tr>\n",
       "      <th>46</th>\n",
       "      <td>22.938505</td>\n",
       "      <td>0.110406</td>\n",
       "    </tr>\n",
       "    <tr>\n",
       "      <th>47</th>\n",
       "      <td>21.702336</td>\n",
       "      <td>0.119617</td>\n",
       "    </tr>\n",
       "    <tr>\n",
       "      <th>48</th>\n",
       "      <td>22.503268</td>\n",
       "      <td>0.108007</td>\n",
       "    </tr>\n",
       "    <tr>\n",
       "      <th>49</th>\n",
       "      <td>25.031848</td>\n",
       "      <td>0.115586</td>\n",
       "    </tr>\n",
       "    <tr>\n",
       "      <th>50</th>\n",
       "      <td>24.264450</td>\n",
       "      <td>0.104252</td>\n",
       "    </tr>\n",
       "    <tr>\n",
       "      <th>51</th>\n",
       "      <td>22.599297</td>\n",
       "      <td>0.106918</td>\n",
       "    </tr>\n",
       "    <tr>\n",
       "      <th>52</th>\n",
       "      <td>21.631632</td>\n",
       "      <td>0.106556</td>\n",
       "    </tr>\n",
       "    <tr>\n",
       "      <th>53</th>\n",
       "      <td>20.838519</td>\n",
       "      <td>0.107413</td>\n",
       "    </tr>\n",
       "    <tr>\n",
       "      <th>54</th>\n",
       "      <td>23.340736</td>\n",
       "      <td>0.108838</td>\n",
       "    </tr>\n",
       "    <tr>\n",
       "      <th>55</th>\n",
       "      <td>23.145363</td>\n",
       "      <td>0.108426</td>\n",
       "    </tr>\n",
       "    <tr>\n",
       "      <th>56</th>\n",
       "      <td>21.172350</td>\n",
       "      <td>0.109381</td>\n",
       "    </tr>\n",
       "    <tr>\n",
       "      <th>57</th>\n",
       "      <td>23.608306</td>\n",
       "      <td>0.106884</td>\n",
       "    </tr>\n",
       "    <tr>\n",
       "      <th>58</th>\n",
       "      <td>21.206153</td>\n",
       "      <td>0.107542</td>\n",
       "    </tr>\n",
       "    <tr>\n",
       "      <th>59</th>\n",
       "      <td>20.797435</td>\n",
       "      <td>0.106319</td>\n",
       "    </tr>\n",
       "    <tr>\n",
       "      <th>60</th>\n",
       "      <td>21.909116</td>\n",
       "      <td>0.114229</td>\n",
       "    </tr>\n",
       "    <tr>\n",
       "      <th>61</th>\n",
       "      <td>24.839548</td>\n",
       "      <td>0.105097</td>\n",
       "    </tr>\n",
       "    <tr>\n",
       "      <th>62</th>\n",
       "      <td>23.215577</td>\n",
       "      <td>0.111154</td>\n",
       "    </tr>\n",
       "    <tr>\n",
       "      <th>63</th>\n",
       "      <td>23.439610</td>\n",
       "      <td>0.111595</td>\n",
       "    </tr>\n",
       "    <tr>\n",
       "      <th>64</th>\n",
       "      <td>23.264560</td>\n",
       "      <td>0.105848</td>\n",
       "    </tr>\n",
       "  </tbody>\n",
       "</table>\n",
       "</div>"
      ],
      "text/plain": [
       "     Time Spent       CTR\n",
       "Age                      \n",
       "18    21.805160  0.104431\n",
       "19    24.301099  0.113928\n",
       "20    22.658484  0.106769\n",
       "21    23.174444  0.106317\n",
       "22    23.339777  0.111566\n",
       "23    21.203465  0.111024\n",
       "24    21.505956  0.109765\n",
       "25    23.541231  0.109907\n",
       "26    22.598906  0.110061\n",
       "27    21.729390  0.105247\n",
       "28    21.807757  0.103960\n",
       "29    24.299111  0.100519\n",
       "30    23.432915  0.106659\n",
       "31    21.989786  0.104464\n",
       "32    22.346828  0.112993\n",
       "33    24.616644  0.114898\n",
       "34    22.385361  0.106876\n",
       "35    21.581871  0.111845\n",
       "36    22.879286  0.107217\n",
       "37    20.809576  0.120952\n",
       "38    25.301273  0.117152\n",
       "39    22.893486  0.105070\n",
       "40    21.684611  0.121210\n",
       "41    24.134836  0.110276\n",
       "42    24.833502  0.113295\n",
       "43    21.289182  0.106507\n",
       "44    23.023596  0.106827\n",
       "45    22.468996  0.099483\n",
       "46    22.938505  0.110406\n",
       "47    21.702336  0.119617\n",
       "48    22.503268  0.108007\n",
       "49    25.031848  0.115586\n",
       "50    24.264450  0.104252\n",
       "51    22.599297  0.106918\n",
       "52    21.631632  0.106556\n",
       "53    20.838519  0.107413\n",
       "54    23.340736  0.108838\n",
       "55    23.145363  0.108426\n",
       "56    21.172350  0.109381\n",
       "57    23.608306  0.106884\n",
       "58    21.206153  0.107542\n",
       "59    20.797435  0.106319\n",
       "60    21.909116  0.114229\n",
       "61    24.839548  0.105097\n",
       "62    23.215577  0.111154\n",
       "63    23.439610  0.111595\n",
       "64    23.264560  0.105848"
      ]
     },
     "execution_count": 11,
     "metadata": {},
     "output_type": "execute_result"
    }
   ],
   "source": [
    "df.groupby('Age')[['Time Spent','CTR']].mean()"
   ]
  },
  {
   "cell_type": "code",
   "execution_count": 67,
   "metadata": {},
   "outputs": [],
   "source": [
    "bins = [18, 30, 40, 50, 65]  # Age groups: 18-29, 30-39, 40-49, 50-64\n",
    "labels = ['18-29', '30-39', '40-49', '50-64']\n",
    "df['Age Group'] = pd.cut(df['Age'], bins=bins, labels=labels, right=False)"
   ]
  },
  {
   "cell_type": "code",
   "execution_count": 72,
   "metadata": {},
   "outputs": [
    {
     "data": {
      "text/html": [
       "<div>\n",
       "<style scoped>\n",
       "    .dataframe tbody tr th:only-of-type {\n",
       "        vertical-align: middle;\n",
       "    }\n",
       "\n",
       "    .dataframe tbody tr th {\n",
       "        vertical-align: top;\n",
       "    }\n",
       "\n",
       "    .dataframe thead th {\n",
       "        text-align: right;\n",
       "    }\n",
       "</style>\n",
       "<table border=\"1\" class=\"dataframe\">\n",
       "  <thead>\n",
       "    <tr style=\"text-align: right;\">\n",
       "      <th></th>\n",
       "      <th>Age</th>\n",
       "      <th>Location</th>\n",
       "      <th>Device</th>\n",
       "      <th>Variant</th>\n",
       "      <th>Time Spent</th>\n",
       "      <th>CTR</th>\n",
       "      <th>Age Group</th>\n",
       "    </tr>\n",
       "  </thead>\n",
       "  <tbody>\n",
       "    <tr>\n",
       "      <th>0</th>\n",
       "      <td>62</td>\n",
       "      <td>Location2</td>\n",
       "      <td>Device2</td>\n",
       "      <td>Control</td>\n",
       "      <td>13.928669</td>\n",
       "      <td>0.084776</td>\n",
       "      <td>50-64</td>\n",
       "    </tr>\n",
       "    <tr>\n",
       "      <th>1</th>\n",
       "      <td>18</td>\n",
       "      <td>Location1</td>\n",
       "      <td>Device1</td>\n",
       "      <td>Variant B</td>\n",
       "      <td>11.310518</td>\n",
       "      <td>0.096859</td>\n",
       "      <td>18-29</td>\n",
       "    </tr>\n",
       "    <tr>\n",
       "      <th>2</th>\n",
       "      <td>21</td>\n",
       "      <td>Location2</td>\n",
       "      <td>Device1</td>\n",
       "      <td>Variant B</td>\n",
       "      <td>24.842100</td>\n",
       "      <td>0.097630</td>\n",
       "      <td>18-29</td>\n",
       "    </tr>\n",
       "    <tr>\n",
       "      <th>3</th>\n",
       "      <td>21</td>\n",
       "      <td>Location1</td>\n",
       "      <td>Device3</td>\n",
       "      <td>Variant B</td>\n",
       "      <td>20.061300</td>\n",
       "      <td>0.109783</td>\n",
       "      <td>18-29</td>\n",
       "    </tr>\n",
       "    <tr>\n",
       "      <th>4</th>\n",
       "      <td>57</td>\n",
       "      <td>Location1</td>\n",
       "      <td>Device2</td>\n",
       "      <td>Variant B</td>\n",
       "      <td>34.495503</td>\n",
       "      <td>0.068579</td>\n",
       "      <td>50-64</td>\n",
       "    </tr>\n",
       "    <tr>\n",
       "      <th>...</th>\n",
       "      <td>...</td>\n",
       "      <td>...</td>\n",
       "      <td>...</td>\n",
       "      <td>...</td>\n",
       "      <td>...</td>\n",
       "      <td>...</td>\n",
       "      <td>...</td>\n",
       "    </tr>\n",
       "    <tr>\n",
       "      <th>995</th>\n",
       "      <td>39</td>\n",
       "      <td>Location2</td>\n",
       "      <td>Device2</td>\n",
       "      <td>Variant B</td>\n",
       "      <td>17.252030</td>\n",
       "      <td>0.092211</td>\n",
       "      <td>30-39</td>\n",
       "    </tr>\n",
       "    <tr>\n",
       "      <th>996</th>\n",
       "      <td>38</td>\n",
       "      <td>Location3</td>\n",
       "      <td>Device2</td>\n",
       "      <td>Control</td>\n",
       "      <td>30.075898</td>\n",
       "      <td>0.078151</td>\n",
       "      <td>30-39</td>\n",
       "    </tr>\n",
       "    <tr>\n",
       "      <th>997</th>\n",
       "      <td>60</td>\n",
       "      <td>Location2</td>\n",
       "      <td>Device3</td>\n",
       "      <td>Control</td>\n",
       "      <td>31.929223</td>\n",
       "      <td>0.125213</td>\n",
       "      <td>50-64</td>\n",
       "    </tr>\n",
       "    <tr>\n",
       "      <th>998</th>\n",
       "      <td>35</td>\n",
       "      <td>Location2</td>\n",
       "      <td>Device2</td>\n",
       "      <td>Variant B</td>\n",
       "      <td>14.680299</td>\n",
       "      <td>0.095423</td>\n",
       "      <td>30-39</td>\n",
       "    </tr>\n",
       "    <tr>\n",
       "      <th>999</th>\n",
       "      <td>55</td>\n",
       "      <td>Location1</td>\n",
       "      <td>Device1</td>\n",
       "      <td>Variant B</td>\n",
       "      <td>25.803169</td>\n",
       "      <td>0.166688</td>\n",
       "      <td>50-64</td>\n",
       "    </tr>\n",
       "  </tbody>\n",
       "</table>\n",
       "<p>1000 rows × 7 columns</p>\n",
       "</div>"
      ],
      "text/plain": [
       "     Age   Location   Device    Variant  Time Spent       CTR Age Group\n",
       "0     62  Location2  Device2    Control   13.928669  0.084776     50-64\n",
       "1     18  Location1  Device1  Variant B   11.310518  0.096859     18-29\n",
       "2     21  Location2  Device1  Variant B   24.842100  0.097630     18-29\n",
       "3     21  Location1  Device3  Variant B   20.061300  0.109783     18-29\n",
       "4     57  Location1  Device2  Variant B   34.495503  0.068579     50-64\n",
       "..   ...        ...      ...        ...         ...       ...       ...\n",
       "995   39  Location2  Device2  Variant B   17.252030  0.092211     30-39\n",
       "996   38  Location3  Device2    Control   30.075898  0.078151     30-39\n",
       "997   60  Location2  Device3    Control   31.929223  0.125213     50-64\n",
       "998   35  Location2  Device2  Variant B   14.680299  0.095423     30-39\n",
       "999   55  Location1  Device1  Variant B   25.803169  0.166688     50-64\n",
       "\n",
       "[1000 rows x 7 columns]"
      ]
     },
     "execution_count": 72,
     "metadata": {},
     "output_type": "execute_result"
    }
   ],
   "source": [
    "df"
   ]
  },
  {
   "cell_type": "code",
   "execution_count": 76,
   "metadata": {},
   "outputs": [],
   "source": [
    "age_group_avg_TS = df.groupby('Age Group')['Time Spent'].mean()\n"
   ]
  },
  {
   "cell_type": "code",
   "execution_count": 78,
   "metadata": {},
   "outputs": [
    {
     "data": {
      "text/plain": [
       "Age Group\n",
       "18-29    22.587349\n",
       "30-39    22.854434\n",
       "40-49    22.937177\n",
       "50-64    22.583417\n",
       "Name: Time Spent, dtype: float64"
      ]
     },
     "execution_count": 78,
     "metadata": {},
     "output_type": "execute_result"
    }
   ],
   "source": [
    "age_group_avg_TS"
   ]
  },
  {
   "cell_type": "code",
   "execution_count": 77,
   "metadata": {},
   "outputs": [],
   "source": [
    "age_group_avg_CTR = df.groupby('Age Group')['CTR'].mean()"
   ]
  },
  {
   "cell_type": "code",
   "execution_count": 79,
   "metadata": {},
   "outputs": [
    {
     "data": {
      "text/plain": [
       "Age Group\n",
       "18-29    0.107807\n",
       "30-39    0.111196\n",
       "40-49    0.110716\n",
       "50-64    0.107938\n",
       "Name: CTR, dtype: float64"
      ]
     },
     "execution_count": 79,
     "metadata": {},
     "output_type": "execute_result"
    }
   ],
   "source": [
    "age_group_avg_CTR"
   ]
  },
  {
   "cell_type": "code",
   "execution_count": 80,
   "metadata": {},
   "outputs": [
    {
     "name": "stdout",
     "output_type": "stream",
     "text": [
      "F_onewayResult(statistic=0.2674004569708277, pvalue=0.8489214084576029)\n"
     ]
    }
   ],
   "source": [
    "age_group_1 = df[df['Age Group'] == '18-29']['Time Spent']\n",
    "age_group_2 = df[df['Age Group'] == '30-39']['Time Spent']\n",
    "age_group_3 = df[df['Age Group'] == '40-49']['Time Spent']\n",
    "age_group_4 = df[df['Age Group'] == '50-64']['Time Spent']\n",
    "\n",
    "p_val = stats.f_oneway(age_group_1, age_group_2, age_group_3, age_group_4)\n",
    "print(p_val)"
   ]
  },
  {
   "cell_type": "code",
   "execution_count": 81,
   "metadata": {},
   "outputs": [
    {
     "name": "stdout",
     "output_type": "stream",
     "text": [
      "F_onewayResult(statistic=1.5473207457172085, pvalue=0.2006869155037133)\n"
     ]
    }
   ],
   "source": [
    "age_group_1 = df[df['Age Group'] == '18-29']['CTR']\n",
    "age_group_2 = df[df['Age Group'] == '30-39']['CTR']\n",
    "age_group_3 = df[df['Age Group'] == '40-49']['CTR']\n",
    "age_group_4 = df[df['Age Group'] == '50-64']['CTR']\n",
    "\n",
    "p_val = stats.f_oneway(age_group_1, age_group_2, age_group_3, age_group_4)\n",
    "print(p_val)"
   ]
  },
  {
   "cell_type": "code",
   "execution_count": 12,
   "metadata": {},
   "outputs": [
    {
     "data": {
      "text/html": [
       "<div>\n",
       "<style scoped>\n",
       "    .dataframe tbody tr th:only-of-type {\n",
       "        vertical-align: middle;\n",
       "    }\n",
       "\n",
       "    .dataframe tbody tr th {\n",
       "        vertical-align: top;\n",
       "    }\n",
       "\n",
       "    .dataframe thead th {\n",
       "        text-align: right;\n",
       "    }\n",
       "</style>\n",
       "<table border=\"1\" class=\"dataframe\">\n",
       "  <thead>\n",
       "    <tr style=\"text-align: right;\">\n",
       "      <th></th>\n",
       "      <th>Time Spent</th>\n",
       "      <th>CTR</th>\n",
       "    </tr>\n",
       "    <tr>\n",
       "      <th>Device</th>\n",
       "      <th></th>\n",
       "      <th></th>\n",
       "    </tr>\n",
       "  </thead>\n",
       "  <tbody>\n",
       "    <tr>\n",
       "      <th>Device1</th>\n",
       "      <td>22.635032</td>\n",
       "      <td>0.109634</td>\n",
       "    </tr>\n",
       "    <tr>\n",
       "      <th>Device2</th>\n",
       "      <td>22.890021</td>\n",
       "      <td>0.109868</td>\n",
       "    </tr>\n",
       "    <tr>\n",
       "      <th>Device3</th>\n",
       "      <td>22.612276</td>\n",
       "      <td>0.107993</td>\n",
       "    </tr>\n",
       "  </tbody>\n",
       "</table>\n",
       "</div>"
      ],
      "text/plain": [
       "         Time Spent       CTR\n",
       "Device                       \n",
       "Device1   22.635032  0.109634\n",
       "Device2   22.890021  0.109868\n",
       "Device3   22.612276  0.107993"
      ]
     },
     "execution_count": 12,
     "metadata": {},
     "output_type": "execute_result"
    }
   ],
   "source": [
    "df.groupby('Device')[['Time Spent','CTR']].mean()"
   ]
  },
  {
   "cell_type": "code",
   "execution_count": 15,
   "metadata": {},
   "outputs": [
    {
     "name": "stdout",
     "output_type": "stream",
     "text": [
      "F_onewayResult(statistic=0.23414784863027854, pvalue=0.7912886728144146)\n"
     ]
    }
   ],
   "source": [
    "dev_1 = df[df['Device'] == 'Device1']['Time Spent']\n",
    "dev_2 = df[df['Device'] == 'Device2']['Time Spent']\n",
    "dev_3 = df[df['Device'] == 'Device2']['Time Spent']\n",
    "\n",
    "p_val = stats.f_oneway(dev_1, dev_2, dev_3)\n",
    "print(p_val)"
   ]
  },
  {
   "cell_type": "code",
   "execution_count": 16,
   "metadata": {},
   "outputs": [
    {
     "name": "stdout",
     "output_type": "stream",
     "text": [
      "F_onewayResult(statistic=0.7105872492654717, pvalue=0.4916042399968955)\n"
     ]
    }
   ],
   "source": [
    "dev_1 = df[df['Device'] == 'Device1']['CTR']\n",
    "dev_2 = df[df['Device'] == 'Device2']['CTR']\n",
    "dev_3 = df[df['Device'] == 'Device3']['CTR']\n",
    "\n",
    "p_val = stats.f_oneway(dev_1, dev_2, dev_3)\n",
    "print(p_val)"
   ]
  },
  {
   "cell_type": "code",
   "execution_count": 54,
   "metadata": {},
   "outputs": [],
   "source": [
    "varA = df[df['Variant']=='Variant A']['Time Spent']\n",
    "varB = df[df['Variant']=='Variant B']['Time Spent']\n",
    "control = df[df['Variant']=='Control']['Time Spent']"
   ]
  },
  {
   "cell_type": "code",
   "execution_count": 55,
   "metadata": {},
   "outputs": [
    {
     "name": "stdout",
     "output_type": "stream",
     "text": [
      "F_onewayResult(statistic=75.60840947416146, pvalue=2.676826588910432e-31)\n"
     ]
    }
   ],
   "source": [
    "p_val = stats.f_oneway(varA, varB, control)\n",
    "print(p_val)"
   ]
  },
  {
   "cell_type": "code",
   "execution_count": 56,
   "metadata": {},
   "outputs": [],
   "source": [
    "varA = df[df['Variant']=='Variant A']['CTR']\n",
    "varB = df[df['Variant']=='Variant B']['CTR']\n",
    "control = df[df['Variant']=='Control']['CTR']"
   ]
  },
  {
   "cell_type": "code",
   "execution_count": 57,
   "metadata": {},
   "outputs": [
    {
     "name": "stdout",
     "output_type": "stream",
     "text": [
      "F_onewayResult(statistic=93.58891593622702, pvalue=5.638952705781554e-38)\n"
     ]
    }
   ],
   "source": [
    "p_val = stats.f_oneway(varA, varB, control)\n",
    "print(p_val)"
   ]
  },
  {
   "cell_type": "code",
   "execution_count": 59,
   "metadata": {},
   "outputs": [
    {
     "name": "stdout",
     "output_type": "stream",
     "text": [
      "Ttest_indResult(statistic=12.142363487472364, pvalue=8.488565644996449e-31)\n",
      "Ttest_indResult(statistic=8.174237395991806, pvalue=1.496358076285182e-15)\n",
      "Ttest_indResult(statistic=3.6788175394209075, pvalue=0.0002534771014765265)\n"
     ]
    }
   ],
   "source": [
    "varA = df[df['Variant']=='Variant A']['Time Spent']\n",
    "varB = df[df['Variant']=='Variant B']['Time Spent']\n",
    "control = df[df['Variant']=='Control']['Time Spent']\n",
    "p_val = stats.ttest_ind(varA, control)\n",
    "p_val_2 = stats.ttest_ind(varB, control)\n",
    "p_val_3 = stats.ttest_ind(varA, varB)\n",
    "print(p_val)\n",
    "print(p_val_2)\n",
    "print(p_val_3)"
   ]
  },
  {
   "cell_type": "code",
   "execution_count": 60,
   "metadata": {},
   "outputs": [
    {
     "name": "stdout",
     "output_type": "stream",
     "text": [
      "Ttest_indResult(statistic=13.829424737499187, pvalue=1.9602781373243157e-38)\n",
      "Ttest_indResult(statistic=6.4718143491783255, pvalue=1.8743198199982106e-10)\n",
      "Ttest_indResult(statistic=7.08499696316128, pvalue=3.587180487986577e-12)\n"
     ]
    }
   ],
   "source": [
    "varA = df[df['Variant']=='Variant A']['CTR']\n",
    "varB = df[df['Variant']=='Variant B']['CTR']\n",
    "control = df[df['Variant']=='Control']['CTR']\n",
    "p_val = stats.ttest_ind(varA, control)\n",
    "p_val_2 = stats.ttest_ind(varB, control)\n",
    "p_val_3 = stats.ttest_ind(varA, varB)\n",
    "print(p_val)\n",
    "print(p_val_2)\n",
    "print(p_val_3)"
   ]
  },
  {
   "cell_type": "code",
   "execution_count": null,
   "metadata": {},
   "outputs": [],
   "source": []
  }
 ],
 "metadata": {
  "kernelspec": {
   "display_name": "Python 3",
   "language": "python",
   "name": "python3"
  },
  "language_info": {
   "codemirror_mode": {
    "name": "ipython",
    "version": 3
   },
   "file_extension": ".py",
   "mimetype": "text/x-python",
   "name": "python",
   "nbconvert_exporter": "python",
   "pygments_lexer": "ipython3",
   "version": "3.11.3"
  },
  "orig_nbformat": 4
 },
 "nbformat": 4,
 "nbformat_minor": 2
}
