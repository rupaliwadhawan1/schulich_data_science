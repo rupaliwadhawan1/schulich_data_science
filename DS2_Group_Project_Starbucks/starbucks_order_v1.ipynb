{
 "cells": [
  {
   "cell_type": "code",
   "execution_count": 46,
   "metadata": {},
   "outputs": [],
   "source": [
    "# pip install SpeechRecognition\n",
    "# pip install pyaudio\n",
    "# pip install gTTS\n",
    "# pip install pygame"
   ]
  },
  {
   "cell_type": "code",
   "execution_count": 29,
   "metadata": {},
   "outputs": [],
   "source": [
    "import speech_recognition as sr\n",
    "from gtts import gTTS\n",
    "import pygame\n",
    "import os\n",
    "import time"
   ]
  },
  {
   "cell_type": "code",
   "execution_count": 31,
   "metadata": {},
   "outputs": [],
   "source": [
    "pygame.mixer.init()"
   ]
  },
  {
   "cell_type": "code",
   "execution_count": 32,
   "metadata": {},
   "outputs": [],
   "source": [
    "def speak_message(message):\n",
    "    filename = f\"message_{int(time.time())}.mp3\"\n",
    "    tts = gTTS(text=message, lang='en')\n",
    "    tts.save(filename)\n",
    "    pygame.mixer.music.load(filename)\n",
    "    pygame.mixer.music.play()\n",
    "    while pygame.mixer.music.get_busy():\n",
    "        pygame.time.Clock().tick(10)\n",
    "    pygame.mixer.music.unload() \n",
    "    os.remove(filename) "
   ]
  },
  {
   "cell_type": "code",
   "execution_count": 33,
   "metadata": {},
   "outputs": [],
   "source": [
    "def recognize_speech_from_mic(recognizer, microphone):\n",
    "    \n",
    "    if not isinstance(recognizer, sr.Recognizer):\n",
    "        raise TypeError(\"`recognizer` must be `Recognizer` instance\")\n",
    "\n",
    "    if not isinstance(microphone, sr.Microphone):\n",
    "        raise TypeError(\"`microphone` must be `Microphone` instance\")\n",
    "\n",
    "    with microphone as source:\n",
    "        recognizer.adjust_for_ambient_noise(source)\n",
    "        print(\"I'm listening, please speak...\")\n",
    "        audio = recognizer.listen(source)\n",
    "\n",
    "    try:\n",
    "        return recognizer.recognize_google(audio)\n",
    "    except sr.RequestError:\n",
    "        return \"API unavailable\"\n",
    "    except sr.UnknownValueError:\n",
    "        return \"Unable to recognize speech\""
   ]
  },
  {
   "cell_type": "code",
   "execution_count": 37,
   "metadata": {},
   "outputs": [],
   "source": [
    "def main():\n",
    "    recognizer = sr.Recognizer()\n",
    "    microphone = sr.Microphone()\n",
    "\n",
    "    speak_message(\"Welcome to Starbucks, please place your order.\")\n",
    "    print(\"Spoken the welcome message...\")\n",
    "\n",
    "    order_text = recognize_speech_from_mic(recognizer, microphone)\n",
    "    print(f\"Order captured: {order_text}\")\n",
    "\n",
    "    speak_message(f\"You ordered: {order_text}. Is this correct? Please say Yes or No.\")\n",
    "    print(\"Repeated the order...\")\n",
    "\n",
    "    confirmation = recognize_speech_from_mic(recognizer, microphone)\n",
    "    print(f\"Confirmation captured: {confirmation}\")\n",
    "\n",
    "    if \"yes\" in confirmation.lower():\n",
    "        speak_message(\"Thank you, your order has been confirmed.\")\n",
    "    elif \"no\" in confirmation.lower():\n",
    "        speak_message(\"Let's try that again. Please place your order.\")\n",
    "    else:\n",
    "        speak_message(\"Sorry, I didn't catch that. Please try again.\")"
   ]
  },
  {
   "cell_type": "code",
   "execution_count": 45,
   "metadata": {},
   "outputs": [
    {
     "name": "stdout",
     "output_type": "stream",
     "text": [
      "Spoken the welcome message...\n",
      "I'm listening, please speak...\n",
      "Order captured: 1 Grande macchiato\n",
      "Repeated the order...\n",
      "I'm listening, please speak...\n",
      "Confirmation captured: yes\n"
     ]
    }
   ],
   "source": [
    "if __name__ == \"__main__\":\n",
    "    main()"
   ]
  }
 ],
 "metadata": {
  "kernelspec": {
   "display_name": "Python 3",
   "language": "python",
   "name": "python3"
  },
  "language_info": {
   "codemirror_mode": {
    "name": "ipython",
    "version": 3
   },
   "file_extension": ".py",
   "mimetype": "text/x-python",
   "name": "python",
   "nbconvert_exporter": "python",
   "pygments_lexer": "ipython3",
   "version": "3.10.0"
  }
 },
 "nbformat": 4,
 "nbformat_minor": 2
}
